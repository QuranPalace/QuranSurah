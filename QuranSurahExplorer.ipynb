{
 "cells": [
  {
   "cell_type": "code",
   "execution_count": 1,
   "metadata": {
    "collapsed": false
   },
   "outputs": [],
   "source": [
    "from quranSurah import QuranSurah"
   ]
  },
  {
   "cell_type": "code",
   "execution_count": 2,
   "metadata": {
    "collapsed": false
   },
   "outputs": [],
   "source": [
    "qs=QuranSurah(36)"
   ]
  },
  {
   "cell_type": "code",
   "execution_count": 3,
   "metadata": {
    "collapsed": false
   },
   "outputs": [
    {
     "name": "stdout",
     "output_type": "stream",
     "text": [
      "Surah: يس (Ya-Sin:Yaseen),  revealed in Meccan, which has 83 Ayah\n"
     ]
    }
   ],
   "source": [
    "# Information about the Surah\n",
    "print (qs)"
   ]
  },
  {
   "cell_type": "code",
   "execution_count": 4,
   "metadata": {
    "collapsed": false
   },
   "outputs": [
    {
     "name": "stdout",
     "output_type": "stream",
     "text": [
      "===== ده عبارت ۲کلمه‌ای پربسامد =========================\n",
      "فإذا هم\n",
      "صراط مستقيم\n",
      "صيحة واحدة\n",
      "إلا صيحة\n",
      "والقرآن الحكيم\n",
      "وآية لهم\n",
      "أفلا يشكرون\n",
      "جميع لدينا\n",
      "لدينا محضرون\n",
      "على صراط\n",
      "===== ده ریشه ۲کلمه‌ای پربسامد =========================\n",
      "و\n",
      "ق\n",
      "ر\n",
      "ت\n",
      "س\n",
      "م\n",
      "===============\n",
      "و\n",
      "س\n",
      "د\n",
      "ی\n",
      "ه\n",
      "===============\n",
      "د\n",
      "ی\n",
      "ل\n",
      "ب\n",
      "ن\n",
      "===============\n",
      "و\n",
      "ق\n",
      "ر\n",
      "ل\n",
      "ب\n",
      "===============\n",
      "ر\n",
      "د\n",
      "ی\n",
      "ه\n",
      "ل\n",
      "===============\n",
      "ع\n",
      "د\n",
      "ی\n",
      "ج\n",
      "ل\n",
      "م\n",
      "===============\n",
      "و\n",
      "ق\n",
      "ه\n",
      "ل\n",
      "===============\n",
      "ق\n",
      "ت\n",
      "خ\n",
      "ه\n",
      "ل\n",
      "م\n",
      "===============\n",
      "ی\n",
      "غ\n",
      "ل\n",
      "ب\n",
      "ن\n",
      "===============\n",
      "ع\n",
      "و\n",
      "د\n",
      "ف\n",
      "ه\n",
      "ک\n",
      "===============\n",
      "None\n",
      "None\n",
      "None\n",
      "None\n",
      "None\n",
      "None\n",
      "None\n",
      "None\n",
      "None\n",
      "None\n"
     ]
    }
   ],
   "source": [
    "# Statistics about the Surah\n",
    "print (\"===== ده عبارت ۲کلمه‌ای پربسامد =========================\")\n",
    "for res in qs.topFrequentWords(2,10):\n",
    "    print (res)\n",
    "print (\"===== ده ریشه ۲کلمه‌ای پربسامد =========================\")\n",
    "for res in qs.topFrequentRoots(2,10):\n",
    "    print (res)"
   ]
  },
  {
   "cell_type": "code",
   "execution_count": 6,
   "metadata": {
    "collapsed": false
   },
   "outputs": [
    {
     "name": "stdout",
     "output_type": "stream",
     "text": [
      "بسم الله الرحمن الرحيم يس\n"
     ]
    }
   ],
   "source": [
    "# Text of the Surah\n",
    "print (qs.text[0])"
   ]
  },
  {
   "cell_type": "code",
   "execution_count": 5,
   "metadata": {
    "collapsed": false
   },
   "outputs": [
    {
     "name": "stdout",
     "output_type": "stream",
     "text": [
      "===== آیه =========================\n",
      "وما علينا إلا البلاغ المبين\n",
      "===== ریشه‌ها ========================\n",
      "maa _ayn_alay _hamzah_illaa blg byn\n",
      "===== ریشه‌ها بدون کلمات زائد =========================\n",
      "blg byn\n"
     ]
    }
   ],
   "source": [
    "# Root in each ayah\n",
    "# e.g. in ayah 17 (indices start from zero in the array)\n",
    "ayah=16\n",
    "print (\"===== آیه =========================\")\n",
    "print (qs.text[ayah])\n",
    "print (\"===== ریشه‌ها ========================\")\n",
    "print (qs.roots[ayah])\n",
    "print (\"===== ریشه‌ها بدون کلمات زائد =========================\")\n",
    "print (qs.nonStopWord_roots[ayah])"
   ]
  },
  {
   "cell_type": "code",
   "execution_count": 10,
   "metadata": {
    "collapsed": false
   },
   "outputs": [
    {
     "name": "stdout",
     "output_type": "stream",
     "text": [
      "(15)قالوا ما أنتم إلا بشر مثلنا وما أنزل الرحمن من شيء إن أنتم إلا تكذبون\n",
      "(28)وما أنزلنا على قومه من بعده من جند من السماء وما كنا منزلين\n",
      "(53)إن كانت إلا صيحة واحدة فإذا هم جميع لدينا محضرون\n",
      "(47)وإذا قيل لهم أنفقوا مما رزقكم الله قال الذين كفروا للذين آمنوا أنطعم من لو يشاء الله أطعمه إن أنتم إلا في ضلال مبين\n",
      "(52)قالوا يا ويلنا من بعثنا من مرقدنا هذا ما وعد الرحمن وصدق المرسلون\n",
      "(46)وما تأتيهم من آية من آيات ربهم إلا كانوا عنها معرضين\n",
      "(29)إن كانت إلا صيحة واحدة فإذا هم خامدون\n",
      "(30)يا حسرة على العباد ما يأتيهم من رسول إلا كانوا به يستهزئون\n",
      "(42)وخلقنا لهم من مثله ما يركبون\n",
      "(51)ونفخ في الصور فإذا هم من الأجداث إلى ربهم ينسلون\n"
     ]
    }
   ],
   "source": [
    "# Retrieve the central ayat, based on surface form, 1-gram/ top 10, \n",
    "results=qs.getAvgAyahTFIDF(qs.text,1,10)\n",
    "for res in results:\n",
    "    print (res)"
   ]
  },
  {
   "cell_type": "code",
   "execution_count": 11,
   "metadata": {
    "collapsed": false
   },
   "outputs": [
    {
     "name": "stdout",
     "output_type": "stream",
     "text": [
      "(15)قالوا ما أنتم إلا بشر مثلنا وما أنزل الرحمن من شيء إن أنتم إلا تكذبون\n",
      "(28)وما أنزلنا على قومه من بعده من جند من السماء وما كنا منزلين\n",
      "(42)وخلقنا لهم من مثله ما يركبون\n",
      "(16)قالوا ربنا يعلم إنا إليكم لمرسلون\n",
      "(54)فاليوم لا تظلم نفس شيئا ولا تجزون إلا ما كنتم تعملون\n",
      "(43)وإن نشأ نغرقهم فلا صريخ لهم ولا هم ينقذون\n",
      "(45)وإذا قيل لهم اتقوا ما بين أيديكم وما خلفكم لعلكم ترحمون\n",
      "(76)فلا يحزنك قولهم إنا نعلم ما يسرون وما يعلنون\n",
      "(46)وما تأتيهم من آية من آيات ربهم إلا كانوا عنها معرضين\n",
      "(29)إن كانت إلا صيحة واحدة فإذا هم خامدون\n"
     ]
    }
   ],
   "source": [
    "# Retrieve the central ayat, based on root, bi-gram/ top 10, \n",
    "results=qs.getAvgAyahTFIDF(qs.roots, 1,10)\n",
    "for res in results:\n",
    "    print (res)"
   ]
  },
  {
   "cell_type": "code",
   "execution_count": 12,
   "metadata": {
    "collapsed": false
   },
   "outputs": [
    {
     "name": "stdout",
     "output_type": "stream",
     "text": [
      "(16)قالوا ربنا يعلم إنا إليكم لمرسلون\n",
      "(15)قالوا ما أنتم إلا بشر مثلنا وما أنزل الرحمن من شيء إن أنتم إلا تكذبون\n",
      "(26)قيل ادخل الجنة قال يا ليت قومي يعلمون\n",
      "(58)سلام قولا من رب رحيم\n",
      "(47)وإذا قيل لهم أنفقوا مما رزقكم الله قال الذين كفروا للذين آمنوا أنطعم من لو يشاء الله أطعمه إن أنتم إلا في ضلال مبين\n",
      "(14)إذ أرسلنا إليهم اثنين فكذبوهما فعززنا بثالث فقالوا إنا إليكم مرسلون\n",
      "(52)قالوا يا ويلنا من بعثنا من مرقدنا هذا ما وعد الرحمن وصدق المرسلون\n",
      "(79)قل يحييها الذي أنشأها أول مرة وهو بكل خلق عليم\n",
      "(45)وإذا قيل لهم اتقوا ما بين أيديكم وما خلفكم لعلكم ترحمون\n",
      "(83)فسبحان الذي بيده ملكوت كل شيء وإليه ترجعون\n"
     ]
    }
   ],
   "source": [
    "# Retrieve the central ayat, based on root, 1-gram/ top 10, \n",
    "results=qs.getAvgAyahTFIDF(qs.nonStopWord_roots, 1,10)\n",
    "for res in results:\n",
    "    print (res)"
   ]
  }
 ],
 "metadata": {
  "kernelspec": {
   "display_name": "Python 3",
   "language": "python",
   "name": "python3"
  },
  "language_info": {
   "codemirror_mode": {
    "name": "ipython",
    "version": 3
   },
   "file_extension": ".py",
   "mimetype": "text/x-python",
   "name": "python",
   "nbconvert_exporter": "python",
   "pygments_lexer": "ipython3",
   "version": "3.5.0"
  }
 },
 "nbformat": 4,
 "nbformat_minor": 0
}
